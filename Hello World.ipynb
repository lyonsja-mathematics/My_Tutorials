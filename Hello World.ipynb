{
 "cells": [
  {
   "cell_type": "markdown",
   "id": "9466e3d2-c245-412c-86d2-51956cb980c7",
   "metadata": {},
   "source": [
    "# Python Tutorial"
   ]
  },
  {
   "cell_type": "code",
   "execution_count": 1,
   "id": "4f6a63ce-8e3e-4102-aaab-e1448080defd",
   "metadata": {},
   "outputs": [
    {
     "name": "stdout",
     "output_type": "stream",
     "text": [
      "Hello, World!\n"
     ]
    }
   ],
   "source": [
    "print(\"Hello, World!\")"
   ]
  },
  {
   "cell_type": "code",
   "execution_count": 83,
   "id": "9fd6e1d8-4155-46a7-a3db-6135302dd9cc",
   "metadata": {},
   "outputs": [],
   "source": [
    "import os\n",
    "from math import pi\n",
    "import numpy as np\n",
    "import pandas as pd\n",
    "from numpy.linalg import inv\n",
    "import matplotlib.pyplot as plt\n",
    "import datetime\n",
    "import random\n",
    "from sklearn.datasets import load_iris"
   ]
  },
  {
   "cell_type": "code",
   "execution_count": 14,
   "id": "c317147d-9f69-42cb-a6f3-5cd510fdeba7",
   "metadata": {},
   "outputs": [],
   "source": [
    "# Change directory\n",
    "os.chdir(\"D:\\\\anaconda3\")"
   ]
  },
  {
   "cell_type": "code",
   "execution_count": 15,
   "id": "17ee9387-e9ae-4ecb-9fca-af1932b86435",
   "metadata": {},
   "outputs": [
    {
     "data": {
      "text/plain": [
       "'D:\\\\anaconda3'"
      ]
     },
     "execution_count": 15,
     "metadata": {},
     "output_type": "execute_result"
    }
   ],
   "source": [
    "os.getcwd()"
   ]
  },
  {
   "cell_type": "code",
   "execution_count": 82,
   "id": "d2fdaea9-3e81-45eb-a238-c32237a801ec",
   "metadata": {},
   "outputs": [
    {
     "name": "stdout",
     "output_type": "stream",
     "text": [
      "['api-ms-win-crt-math-l1-1-0.dll' 'condabin'\n",
      " 'Practical Statistics for Data Science.ipynb']\n"
     ]
    }
   ],
   "source": [
    "# Print 3 random files in the working directory.\n",
    "print(np.random.choice(os.listdir(), size=3))"
   ]
  },
  {
   "cell_type": "code",
   "execution_count": 19,
   "id": "05a9b0cd-aa9b-4bce-a54a-e2294056c6a9",
   "metadata": {},
   "outputs": [
    {
     "name": "stdout",
     "output_type": "stream",
     "text": [
      "A array of integers: [4 2 0 5 3]\n",
      "The sorted array indices: [2 1 4 0 3]\n",
      "Sorted array: [0 2 3 4 5]\n",
      "Reverse sorted array: [5 4 3 2 0]\n"
     ]
    }
   ],
   "source": [
    "x=random.sample(range(10), 5)\n",
    "x=np.array(x)\n",
    "print(\"A array of integers: {}\".format(x))\n",
    "y=np.argsort(x)\n",
    "print(\"The sorted array indices: {}\".format(y))\n",
    "print(\"Sorted array: {}\".format(x[y]))\n",
    "y2=y[::-1]\n",
    "print(\"Reverse sorted array: {}\".format(x[y2]))"
   ]
  },
  {
   "cell_type": "code",
   "execution_count": 20,
   "id": "51274755-0d11-453d-9a45-014d982f333e",
   "metadata": {},
   "outputs": [
    {
     "name": "stdout",
     "output_type": "stream",
     "text": [
      "GGE\n"
     ]
    }
   ],
   "source": [
    "x, y, z = \"GGE\", \"THJK\", \"YY77U\"\n",
    "print(x)"
   ]
  },
  {
   "cell_type": "code",
   "execution_count": 8,
   "id": "16746f76-51bf-4588-9138-876a46a6fd2a",
   "metadata": {},
   "outputs": [
    {
     "name": "stdout",
     "output_type": "stream",
     "text": [
      "GGE THJK YY77U\n"
     ]
    }
   ],
   "source": [
    "print(x,y,z)"
   ]
  },
  {
   "cell_type": "code",
   "execution_count": 6,
   "id": "e62d9aae-0b49-4423-b26c-c9e6b94b68ea",
   "metadata": {},
   "outputs": [
    {
     "data": {
      "text/html": [
       "<div>\n",
       "<style scoped>\n",
       "    .dataframe tbody tr th:only-of-type {\n",
       "        vertical-align: middle;\n",
       "    }\n",
       "\n",
       "    .dataframe tbody tr th {\n",
       "        vertical-align: top;\n",
       "    }\n",
       "\n",
       "    .dataframe thead th {\n",
       "        text-align: right;\n",
       "    }\n",
       "</style>\n",
       "<table border=\"1\" class=\"dataframe\">\n",
       "  <thead>\n",
       "    <tr style=\"text-align: right;\">\n",
       "      <th></th>\n",
       "      <th>X</th>\n",
       "      <th>Y</th>\n",
       "      <th>Z</th>\n",
       "    </tr>\n",
       "  </thead>\n",
       "  <tbody>\n",
       "    <tr>\n",
       "      <th>0</th>\n",
       "      <td>1</td>\n",
       "      <td>2</td>\n",
       "      <td>5</td>\n",
       "    </tr>\n",
       "    <tr>\n",
       "      <th>1</th>\n",
       "      <td>2</td>\n",
       "      <td>4</td>\n",
       "      <td>5</td>\n",
       "    </tr>\n",
       "    <tr>\n",
       "      <th>2</th>\n",
       "      <td>3</td>\n",
       "      <td>6</td>\n",
       "      <td>9</td>\n",
       "    </tr>\n",
       "  </tbody>\n",
       "</table>\n",
       "</div>"
      ],
      "text/plain": [
       "   X  Y  Z\n",
       "0  1  2  5\n",
       "1  2  4  5\n",
       "2  3  6  9"
      ]
     },
     "execution_count": 6,
     "metadata": {},
     "output_type": "execute_result"
    }
   ],
   "source": [
    "# Create a data frame\n",
    "pd.DataFrame({\"X\":[1,2,3],\"Y\":[2,4,6], \"Z\":[5,5,9]})"
   ]
  },
  {
   "cell_type": "code",
   "execution_count": 9,
   "id": "fa3a6fc3-e927-40c6-a695-4377bd7b21c9",
   "metadata": {},
   "outputs": [
    {
     "data": {
      "text/plain": [
       "array([[ 1,  1,  1,  0],\n",
       "       [-1,  3,  2,  1],\n",
       "       [ 4,  4, -3,  2],\n",
       "       [-4, 12,  0, -3]])"
      ]
     },
     "execution_count": 9,
     "metadata": {},
     "output_type": "execute_result"
    }
   ],
   "source": [
    "# Create a matrix array\n",
    "A = np.array([[1,1,1,0],[-1,3,2,1],[4,4,-3,2],[-4,12,0,-3]]);A"
   ]
  },
  {
   "cell_type": "code",
   "execution_count": 64,
   "id": "a38b0d5e-8334-4220-99ad-b3be651babb4",
   "metadata": {},
   "outputs": [],
   "source": [
    "# Import a data frame from a csv on github\n",
    "url1=\"https://github.com/gedeck/practical-statistics-for-data-scientists/blob/master/data/sp500_data.csv.gz?raw=True\"\n",
    "sp500_px=pandas.read_csv(url1, compression=\"gzip\")\n",
    "\n",
    "# Rename the first column to date\n",
    "sp500_px=sp500_px.rename({\"Unnamed: 0\":\"Date\"}, axis=\"columns\")"
   ]
  },
  {
   "cell_type": "code",
   "execution_count": 34,
   "id": "7c5b9d7a-0bbb-4fb8-871c-7e2712a753f8",
   "metadata": {},
   "outputs": [
    {
     "data": {
      "text/html": [
       "<div>\n",
       "<style scoped>\n",
       "    .dataframe tbody tr th:only-of-type {\n",
       "        vertical-align: middle;\n",
       "    }\n",
       "\n",
       "    .dataframe tbody tr th {\n",
       "        vertical-align: top;\n",
       "    }\n",
       "\n",
       "    .dataframe thead th {\n",
       "        text-align: right;\n",
       "    }\n",
       "</style>\n",
       "<table border=\"1\" class=\"dataframe\">\n",
       "  <thead>\n",
       "    <tr style=\"text-align: right;\">\n",
       "      <th></th>\n",
       "      <th>Date</th>\n",
       "      <th>ADS</th>\n",
       "      <th>CA</th>\n",
       "    </tr>\n",
       "  </thead>\n",
       "  <tbody>\n",
       "    <tr>\n",
       "      <th>0</th>\n",
       "      <td>1993-01-29</td>\n",
       "      <td>0.0</td>\n",
       "      <td>0.060124</td>\n",
       "    </tr>\n",
       "    <tr>\n",
       "      <th>1</th>\n",
       "      <td>1993-01-29</td>\n",
       "      <td>0.0</td>\n",
       "      <td>-0.180389</td>\n",
       "    </tr>\n",
       "    <tr>\n",
       "      <th>2</th>\n",
       "      <td>1993-01-29</td>\n",
       "      <td>0.0</td>\n",
       "      <td>-0.120257</td>\n",
       "    </tr>\n",
       "    <tr>\n",
       "      <th>3</th>\n",
       "      <td>1993-01-29</td>\n",
       "      <td>0.0</td>\n",
       "      <td>0.060124</td>\n",
       "    </tr>\n",
       "  </tbody>\n",
       "</table>\n",
       "</div>"
      ],
      "text/plain": [
       "        Date  ADS        CA\n",
       "0 1993-01-29  0.0  0.060124\n",
       "1 1993-01-29  0.0 -0.180389\n",
       "2 1993-01-29  0.0 -0.120257\n",
       "3 1993-01-29  0.0  0.060124"
      ]
     },
     "execution_count": 34,
     "metadata": {},
     "output_type": "execute_result"
    }
   ],
   "source": [
    "# Show the first four rows of columns Date, ADS and CA\n",
    "sp500_px[0:4][[\"Date\",\"ADS\",\"CA\"]]"
   ]
  },
  {
   "cell_type": "code",
   "execution_count": 4,
   "id": "61e46b4d-c917-4e77-adb6-14fa162fb1e5",
   "metadata": {},
   "outputs": [
    {
     "data": {
      "text/html": [
       "<div>\n",
       "<style scoped>\n",
       "    .dataframe tbody tr th:only-of-type {\n",
       "        vertical-align: middle;\n",
       "    }\n",
       "\n",
       "    .dataframe tbody tr th {\n",
       "        vertical-align: top;\n",
       "    }\n",
       "\n",
       "    .dataframe thead th {\n",
       "        text-align: right;\n",
       "    }\n",
       "</style>\n",
       "<table border=\"1\" class=\"dataframe\">\n",
       "  <thead>\n",
       "    <tr style=\"text-align: right;\">\n",
       "      <th></th>\n",
       "      <th>Date</th>\n",
       "      <th>ADS</th>\n",
       "      <th>CA</th>\n",
       "    </tr>\n",
       "  </thead>\n",
       "  <tbody>\n",
       "    <tr>\n",
       "      <th>0</th>\n",
       "      <td>1993-01-29</td>\n",
       "      <td>0.0</td>\n",
       "      <td>0.060124</td>\n",
       "    </tr>\n",
       "    <tr>\n",
       "      <th>1</th>\n",
       "      <td>1993-02-01</td>\n",
       "      <td>0.0</td>\n",
       "      <td>-0.180389</td>\n",
       "    </tr>\n",
       "    <tr>\n",
       "      <th>2</th>\n",
       "      <td>1993-02-02</td>\n",
       "      <td>0.0</td>\n",
       "      <td>-0.120257</td>\n",
       "    </tr>\n",
       "    <tr>\n",
       "      <th>3</th>\n",
       "      <td>1993-02-03</td>\n",
       "      <td>0.0</td>\n",
       "      <td>0.060124</td>\n",
       "    </tr>\n",
       "  </tbody>\n",
       "</table>\n",
       "</div>"
      ],
      "text/plain": [
       "         Date  ADS        CA\n",
       "0  1993-01-29  0.0  0.060124\n",
       "1  1993-02-01  0.0 -0.180389\n",
       "2  1993-02-02  0.0 -0.120257\n",
       "3  1993-02-03  0.0  0.060124"
      ]
     },
     "execution_count": 4,
     "metadata": {},
     "output_type": "execute_result"
    }
   ],
   "source": [
    "# It's the same if you reverse the order\n",
    "sp500_px[[\"Date\",\"ADS\",\"CA\"]][0:4]"
   ]
  },
  {
   "cell_type": "code",
   "execution_count": 73,
   "id": "b85b4b56-6a7f-49fe-a9bb-87e59f1bca7f",
   "metadata": {},
   "outputs": [],
   "source": [
    "# Convert Date to a datetime object\n",
    "sp500_px.Date=pandas.to_datetime(sp500_px.Date)"
   ]
  },
  {
   "cell_type": "code",
   "execution_count": 83,
   "id": "c73f1099-d09d-4250-b358-08aec305216e",
   "metadata": {},
   "outputs": [
    {
     "data": {
      "text/html": [
       "<div>\n",
       "<style scoped>\n",
       "    .dataframe tbody tr th:only-of-type {\n",
       "        vertical-align: middle;\n",
       "    }\n",
       "\n",
       "    .dataframe tbody tr th {\n",
       "        vertical-align: top;\n",
       "    }\n",
       "\n",
       "    .dataframe thead th {\n",
       "        text-align: right;\n",
       "    }\n",
       "</style>\n",
       "<table border=\"1\" class=\"dataframe\">\n",
       "  <thead>\n",
       "    <tr style=\"text-align: right;\">\n",
       "      <th></th>\n",
       "      <th>Date</th>\n",
       "      <th>Year</th>\n",
       "    </tr>\n",
       "  </thead>\n",
       "  <tbody>\n",
       "    <tr>\n",
       "      <th>0</th>\n",
       "      <td>1993-01-29</td>\n",
       "      <td>1993</td>\n",
       "    </tr>\n",
       "    <tr>\n",
       "      <th>1</th>\n",
       "      <td>1993-02-01</td>\n",
       "      <td>1993</td>\n",
       "    </tr>\n",
       "    <tr>\n",
       "      <th>2</th>\n",
       "      <td>1993-02-02</td>\n",
       "      <td>1993</td>\n",
       "    </tr>\n",
       "    <tr>\n",
       "      <th>3</th>\n",
       "      <td>1993-02-03</td>\n",
       "      <td>1993</td>\n",
       "    </tr>\n",
       "  </tbody>\n",
       "</table>\n",
       "</div>"
      ],
      "text/plain": [
       "        Date  Year\n",
       "0 1993-01-29  1993\n",
       "1 1993-02-01  1993\n",
       "2 1993-02-02  1993\n",
       "3 1993-02-03  1993"
      ]
     },
     "execution_count": 83,
     "metadata": {},
     "output_type": "execute_result"
    }
   ],
   "source": [
    "# Create a new column for Year\n",
    "sp500_px[\"Year\"]=sp500_px.Date.dt.year\n",
    "sp500_px[0:4][[\"Date\",\"Year\"]]"
   ]
  },
  {
   "cell_type": "code",
   "execution_count": 85,
   "id": "9a00269b-4921-4cec-8cc4-6b5fed822444",
   "metadata": {},
   "outputs": [
    {
     "data": {
      "text/html": [
       "<div>\n",
       "<style scoped>\n",
       "    .dataframe tbody tr th:only-of-type {\n",
       "        vertical-align: middle;\n",
       "    }\n",
       "\n",
       "    .dataframe tbody tr th {\n",
       "        vertical-align: top;\n",
       "    }\n",
       "\n",
       "    .dataframe thead th {\n",
       "        text-align: right;\n",
       "    }\n",
       "</style>\n",
       "<table border=\"1\" class=\"dataframe\">\n",
       "  <thead>\n",
       "    <tr style=\"text-align: right;\">\n",
       "      <th></th>\n",
       "      <th>Date</th>\n",
       "      <th>Year</th>\n",
       "    </tr>\n",
       "  </thead>\n",
       "  <tbody>\n",
       "    <tr>\n",
       "      <th>4210</th>\n",
       "      <td>2009-10-15</td>\n",
       "      <td>2009</td>\n",
       "    </tr>\n",
       "    <tr>\n",
       "      <th>5363</th>\n",
       "      <td>2014-05-16</td>\n",
       "      <td>2014</td>\n",
       "    </tr>\n",
       "    <tr>\n",
       "      <th>5556</th>\n",
       "      <td>2015-02-23</td>\n",
       "      <td>2015</td>\n",
       "    </tr>\n",
       "    <tr>\n",
       "      <th>5437</th>\n",
       "      <td>2014-09-02</td>\n",
       "      <td>2014</td>\n",
       "    </tr>\n",
       "    <tr>\n",
       "      <th>4410</th>\n",
       "      <td>2010-08-03</td>\n",
       "      <td>2010</td>\n",
       "    </tr>\n",
       "    <tr>\n",
       "      <th>4834</th>\n",
       "      <td>2012-04-09</td>\n",
       "      <td>2012</td>\n",
       "    </tr>\n",
       "  </tbody>\n",
       "</table>\n",
       "</div>"
      ],
      "text/plain": [
       "           Date  Year\n",
       "4210 2009-10-15  2009\n",
       "5363 2014-05-16  2014\n",
       "5556 2015-02-23  2015\n",
       "5437 2014-09-02  2014\n",
       "4410 2010-08-03  2010\n",
       "4834 2012-04-09  2012"
      ]
     },
     "execution_count": 85,
     "metadata": {},
     "output_type": "execute_result"
    }
   ],
   "source": [
    "# Subset condition and random sample\n",
    "sp500_px[sp500_px.Year > 2007][[\"Date\",\"Year\"]].sample(6)"
   ]
  },
  {
   "cell_type": "code",
   "execution_count": 13,
   "id": "7d7c1b58-8c82-464c-8ad6-1bd92c92a907",
   "metadata": {},
   "outputs": [
    {
     "data": {
      "text/plain": [
       "array([[ -1,  -1,  -1,   0],\n",
       "       [  1,  -3,  -2,  -1],\n",
       "       [ -4,  -4,   3,  -2],\n",
       "       [  4, -12,   0,   3]])"
      ]
     },
     "execution_count": 13,
     "metadata": {},
     "output_type": "execute_result"
    }
   ],
   "source": [
    "# Matrix multiplication\n",
    "I = np.array([[1,0,0,0],[0,1,0,0],[0,0,1,0],[0,0,0,1]])\n",
    "C = np.matmul(A,-I); C"
   ]
  },
  {
   "cell_type": "code",
   "execution_count": 17,
   "id": "65107895-219e-43c1-bcbe-a0f5b9c3a13b",
   "metadata": {},
   "outputs": [
    {
     "data": {
      "text/plain": [
       "array([[ 1.,  0., -0., -0.],\n",
       "       [ 0.,  1., -0.,  0.],\n",
       "       [ 0., -0.,  1., -0.],\n",
       "       [ 0.,  0.,  0.,  1.]])"
      ]
     },
     "execution_count": 17,
     "metadata": {},
     "output_type": "execute_result"
    }
   ],
   "source": [
    "# Inverse matrix\n",
    "B=inv(A)\n",
    "np.matmul(B,A).round()"
   ]
  },
  {
   "cell_type": "code",
   "execution_count": 19,
   "id": "7a21b94a-53b2-43d3-8f06-85a37a5d0cc4",
   "metadata": {},
   "outputs": [
    {
     "data": {
      "text/plain": [
       "True"
      ]
     },
     "execution_count": 19,
     "metadata": {},
     "output_type": "execute_result"
    }
   ],
   "source": [
    "# Check commutative property\n",
    "np.all(np.matmul(A,B).round()==np.matmul(B,A).round())"
   ]
  },
  {
   "cell_type": "code",
   "execution_count": 22,
   "id": "ac618aa8-49f9-4ae4-9830-de7a4b787c87",
   "metadata": {},
   "outputs": [
    {
     "data": {
      "text/plain": [
       "array([0. , 0.1, 0.2, 0.3, 0.4, 0.5, 0.6, 0.7, 0.8, 0.9, 1. ])"
      ]
     },
     "execution_count": 22,
     "metadata": {},
     "output_type": "execute_result"
    }
   ],
   "source": [
    "# Sequence of numbers from 0 to 1 by increment 0.1\n",
    "Delta_x=.1\n",
    "np.arange(0,1+Delta_x,Delta_x)"
   ]
  },
  {
   "cell_type": "code",
   "execution_count": 25,
   "id": "41457b04-1c4f-4c8d-a298-022f12174465",
   "metadata": {},
   "outputs": [
    {
     "data": {
      "text/plain": [
       "array([1., 1., 1., 1., 1., 1., 1., 1., 1., 1., 1.])"
      ]
     },
     "execution_count": 25,
     "metadata": {},
     "output_type": "execute_result"
    }
   ],
   "source": [
    "# A vector of all 1s\n",
    "Nx=int(1/Delta_x + 1)\n",
    "np.ones(Nx)"
   ]
  },
  {
   "cell_type": "code",
   "execution_count": 27,
   "id": "869b766b-3ce6-4382-b370-b8879d7c4cdf",
   "metadata": {},
   "outputs": [
    {
     "data": {
      "text/plain": [
       "[0, 2, 4, 6, 8, 10]"
      ]
     },
     "execution_count": 27,
     "metadata": {},
     "output_type": "execute_result"
    }
   ],
   "source": [
    "# A for loop that adds a new item to a vector if a condition is satisfied\n",
    "x=[]\n",
    "for i in range(Nx):\n",
    "    if i%2==0:\n",
    "        x.append(i)\n",
    "\n",
    "x"
   ]
  },
  {
   "cell_type": "markdown",
   "id": "ec8607f4-569c-4267-b57a-30ca666749cd",
   "metadata": {},
   "source": [
    "\\begin{align}\n",
    "\\frac{\\partial m}{\\partial t} &+ \\frac{\\partial}{\\partial x}\\left(-D_m \\frac{\\partial m}{\\partial x}\\right) = -\\Phi(t) F(x,t) m,\\\\\n",
    "\\frac{\\partial p}{\\partial t} &+ \\frac{\\partial}{\\partial x}\\left(-D_p \\frac{\\partial p}{\\partial x}\\right) = \\Phi(t) F(x,t) m - \\Phi(t) \\Gamma p^2,\\\\\n",
    "\\frac{\\partial q}{\\partial t} &= \\Phi(t) \\Gamma p^2.\n",
    "\\end{align}"
   ]
  },
  {
   "cell_type": "code",
   "execution_count": 54,
   "id": "785b969f-617e-4f38-9115-3a46363084fc",
   "metadata": {},
   "outputs": [],
   "source": [
    "def two_way_diffusion(Delta_x=0.05, Delta_t=0.01, total_time=100, lpmm=1000, I0=5):\n",
    "    \n",
    "    Nt=int((total_time+1)/Delta_t)\n",
    "    Nx=1/Delta_x + 1\n",
    "    Nx=int(Nx)\n",
    "    x=np.arange(0,1+Delta_x,Delta_x)\n",
    "    f = 1 + np.cos(2*pi*x)\n",
    "    m1=np.ones(Nx)\n",
    "    p1=np.zeros(Nx)\n",
    "    q1=np.zeros(Nx)\n",
    "    m=pd.DataFrame({\"x\": x, \"monomer\": m1, \"time\": np.zeros(Nx)})\n",
    "    p=pd.DataFrame({\"x\": x, \"short_polymer\": p1, \"time\": np.zeros(Nx)})\n",
    "    q=pd.DataFrame({\"x\": x, \"immobile_polymer\": q1, \"time\": np.zeros(Nx)})\n",
    "    Lambda=1/10/lpmm\n",
    "    alpha_m=1.6e-7/Lambda/Lambda\n",
    "    alpha_p=6.35e-10/Lambda/Lambda\n",
    "    r=Delta_t/Delta_x/Delta_x\n",
    "    beta=0.1*I0**0.3\n",
    "    gamma=1\n",
    "    \n",
    "    for j in range(Nt):\n",
    "    \n",
    "        MM2=(2 + 2*r*alpha_m + Delta_t*beta*f)*np.identity(Nx)\n",
    "        MM1=(2 - 2*r*alpha_m - Delta_t*beta*f)*np.identity(Nx)\n",
    "        \n",
    "        PP2=(2 + 2*r*alpha_p + Delta_t*gamma*p1)*np.identity(Nx)\n",
    "        PP1=(2 - 2*r*alpha_p - Delta_t*gamma*p1)*np.identity(Nx)\n",
    "    \n",
    "        PM2=Delta_t*beta*f*np.identity(Nx)\n",
    "        PM1=Delta_t*beta*f*np.identity(Nx)\n",
    "    \n",
    "        QQ2=2*np.identity(Nx)\n",
    "        QQ1=2*np.identity(Nx)\n",
    "    \n",
    "        QP2=Delta_t*gamma*p1*np.identity(Nx)\n",
    "        QP1=Delta_t*gamma*p1*np.identity(Nx)\n",
    "    \n",
    "        for i in range(Nx):\n",
    "    \n",
    "            if i==0:\n",
    "                iminus1=1\n",
    "            else:\n",
    "                iminus1=i-1\n",
    "            if i==(Nx-1):\n",
    "                iplus1=Nx-1\n",
    "            else:\n",
    "                iplus1=i+1\n",
    "        \n",
    "            MM2[i][iminus1] = MM2[i][iminus1] - r*alpha_m\n",
    "            MM2[i][iplus1] = MM2[i][iplus1] - r*alpha_m\n",
    "        \n",
    "            MM1[i][iminus1] = MM1[i][iminus1] + r*alpha_m\n",
    "            MM1[i][iplus1] = MM1[i][iplus1] + r*alpha_m\n",
    "    \n",
    "            PP2[i][iminus1] = PP2[i][iminus1] - r*alpha_p\n",
    "            PP2[i][iplus1] = PP2[i][iplus1] - r*alpha_p\n",
    "        \n",
    "            PP1[i][iminus1] = PP1[i][iminus1] + r*alpha_p\n",
    "            PP1[i][iplus1] = PP1[i][iplus1] + r*alpha_p\n",
    "        \n",
    "        m2=np.matmul(inv(MM2), np.matmul(MM1, np.array(m1)))\n",
    "        p2=np.matmul(inv(PP2), np.matmul(PP1, np.array(p1))) + np.matmul(inv(PP2), np.matmul(PM2, np.array(m2))) + np.matmul(inv(PP2), np.matmul(PM1, np.array(m1)))\n",
    "        q2=np.matmul(inv(QQ2), np.matmul(QQ1, np.array(q1))) + np.matmul(inv(QQ2), np.matmul(QP2, np.array(p2))) +  np.matmul(inv(QQ2), np.matmul(QP1, np.array(p1)))\n",
    "    \n",
    "        if j > 0:\n",
    "            if Delta_t*j in range(total_time+1):\n",
    "                m=pd.concat([m,pd.DataFrame({\"x\": x, \"monomer\": m1, \"time\": np.zeros(Nx) + Delta_t*j})])\n",
    "                p=pd.concat([p,pd.DataFrame({\"x\": x, \"short_polymer\": p1, \"time\": np.zeros(Nx) + Delta_t*j})])\n",
    "                q=pd.concat([q,pd.DataFrame({\"x\": x, \"immobile_polymer\": q1, \"time\": np.zeros(Nx) + Delta_t*j})])\n",
    "        \n",
    "        m1=m2\n",
    "        p1=p2\n",
    "        q1=q2\n",
    "    \n",
    "    m=m[m.time.isin(range(total_time+1))]\n",
    "    p=p[p.time.isin(range(total_time+1))]\n",
    "    q=q[q.time.isin(range(total_time+1))]\n",
    "\n",
    "    df=pd.merge(m, p)\n",
    "    df=pd.merge(df, q)\n",
    "    df=df[[\"time\",\"x\",\"monomer\",\"short_polymer\",\"immobile_polymer\"]]\n",
    "    df[\"Delta_x\"]=Delta_x\n",
    "    df[\"Delta_t\"]=Delta_t\n",
    "    df[\"total_time\"]=total_time\n",
    "    df[\"lpmm\"]=lpmm\n",
    "    df[\"I0\"]=I0\n",
    "\n",
    "    return df"
   ]
  },
  {
   "cell_type": "code",
   "execution_count": 55,
   "id": "5f51e4fd-0dc0-408b-8b1e-5642ef77532f",
   "metadata": {},
   "outputs": [],
   "source": [
    "df1=two_way_diffusion(total_time=80)"
   ]
  },
  {
   "cell_type": "code",
   "execution_count": 59,
   "id": "ab75aa98-1ef6-46b8-827e-49a0ea396abe",
   "metadata": {},
   "outputs": [
    {
     "data": {
      "image/png": "[encoded data removed]",
      "text/plain": [
       "<Figure size 1500x500 with 3 Axes>"
      ]
     },
     "metadata": {},
     "output_type": "display_data"
    }
   ],
   "source": [
    "# Plot results\n",
    "total_time=df1.total_time.unique()[0]\n",
    "\n",
    "df_q=pd.merge(\n",
    "    df1[df1.time==0].rename(columns={\"immobile_polymer\":\"t = 0 s\"})[[\"x\",\"t = 0 s\"]],\n",
    "    df1[df1.time==10].rename(columns={\"immobile_polymer\":\"t = 10 s\"})[[\"x\",\"t = 10 s\"]],\n",
    "    on=\"x\"\n",
    ")\n",
    "\n",
    "df_q=pd.merge(\n",
    "    df_q, \n",
    "    df1[df1.time==df1.total_time].rename(columns={\"immobile_polymer\":\"t = \"+str(total_time)+\" s\"})[[\"x\",\"t = \"+str(total_time)+\" s\"]],\n",
    "    on=\"x\"\n",
    ")\n",
    "\n",
    "df_p=pd.merge(\n",
    "    df1[df1.time==0].rename(columns={\"short_polymer\":\"t = 0 s\"})[[\"x\",\"t = 0 s\"]],\n",
    "    df1[df1.time==10].rename(columns={\"short_polymer\":\"t = 10 s\"})[[\"x\",\"t = 10 s\"]],\n",
    "    on=\"x\"\n",
    ")\n",
    "\n",
    "df_p=pd.merge(\n",
    "    df_p, \n",
    "    df1[df1.time==df1.total_time].rename(columns={\"short_polymer\":\"t = \"+str(total_time)+\" s\"})[[\"x\",\"t = \"+str(total_time)+\" s\"]],\n",
    "    on=\"x\"\n",
    ")\n",
    "\n",
    "df_m=pd.merge(\n",
    "    df1[df1.time==0].rename(columns={\"monomer\":\"t = 0 s\"})[[\"x\",\"t = 0 s\"]],\n",
    "    df1[df1.time==10].rename(columns={\"monomer\":\"t = 10 s\"})[[\"x\",\"t = 10 s\"]],\n",
    "    on=\"x\"\n",
    ")\n",
    "\n",
    "df_m=pd.merge(\n",
    "    df_m, \n",
    "    df1[df1.time==df1.total_time].rename(columns={\"monomer\":\"t = \"+str(total_time)+\" s\"})[[\"x\",\"t = \"+str(total_time)+\" s\"]],\n",
    "    on=\"x\"\n",
    ")\n",
    "\n",
    "# Plot data frame\n",
    "fig, axes = plt.subplots(1,3, figsize=(15,5))\n",
    "df_list=[df_m,df_p,df_q]\n",
    "title_list=[\"m(x, t)\",\"p(x, t)\",\"q(x, t)\"]\n",
    "for df, t, ax in zip(df_list, title_list, axes):\n",
    "    df.plot(x=\"x\", title=t, ylabel=\"$m_0$\", ax=ax)\n",
    "plt.show()"
   ]
  },
  {
   "cell_type": "code",
   "execution_count": 5,
   "id": "befbc638-ef5c-48a0-a202-77af1bfc2101",
   "metadata": {},
   "outputs": [],
   "source": [
    "iris=load_iris()"
   ]
  },
  {
   "cell_type": "code",
   "execution_count": 39,
   "id": "6bace991-9804-40e5-ab36-5275b2d2a574",
   "metadata": {},
   "outputs": [
    {
     "data": {
      "text/plain": [
       "array([[5.4, 3.9, 1.7, 0.4],\n",
       "       [4.9, 3.1, 1.5, 0.1],\n",
       "       [5. , 3.4, 1.5, 0.2],\n",
       "       [4.6, 3.1, 1.5, 0.2],\n",
       "       [4.4, 2.9, 1.4, 0.2],\n",
       "       [4.6, 3.4, 1.4, 0.3],\n",
       "       [5. , 3.6, 1.4, 0.2],\n",
       "       [4.9, 3. , 1.4, 0.2],\n",
       "       [5.1, 3.5, 1.4, 0.2],\n",
       "       [4.7, 3.2, 1.3, 0.2]])"
      ]
     },
     "execution_count": 39,
     "metadata": {},
     "output_type": "execute_result"
    }
   ],
   "source": [
    "iris10=iris.data[0:10,]\n",
    "ind=np.argsort(iris10[:,2])[::-1]\n",
    "iris10[ind]"
   ]
  },
  {
   "cell_type": "code",
   "execution_count": 40,
   "id": "8828bc10-aeed-4d9b-971f-7e231840f0c1",
   "metadata": {},
   "outputs": [
    {
     "data": {
      "text/plain": [
       "array([[5.4, 3.9, 1.7, 0.4, 4.9, 3.1, 1.5, 0.1, 5. , 3.4, 1.5, 0.2, 4.6,\n",
       "        3.1, 1.5, 0.2, 4.4, 2.9, 1.4, 0.2, 4.6, 3.4, 1.4, 0.3, 5. , 3.6,\n",
       "        1.4, 0.2, 4.9, 3. , 1.4, 0.2, 5.1, 3.5, 1.4, 0.2, 4.7, 3.2, 1.3,\n",
       "        0.2]])"
      ]
     },
     "execution_count": 40,
     "metadata": {},
     "output_type": "execute_result"
    }
   ],
   "source": [
    "iris10[ind].reshape(1,40)"
   ]
  },
  {
   "cell_type": "code",
   "execution_count": 58,
   "id": "3330fd05-a870-4389-95d1-3d4291573388",
   "metadata": {},
   "outputs": [
    {
     "name": "stdout",
     "output_type": "stream",
     "text": [
      "Overwriting circle_area.py\n"
     ]
    }
   ],
   "source": [
    "%%writefile circle_area.py\n",
    "\n",
    "from math import pi\n",
    "\n",
    "def circleArea(r):\n",
    "    if type(r)==float or type(r)==int:\n",
    "        if r >= 0:\n",
    "            return pi*r*r\n",
    "        else:\n",
    "            print(\"Input a non-negative number.\")\n",
    "            return None\n",
    "    else:\n",
    "        print(\"Input a non-negative number.\")\n",
    "        return None\n"
   ]
  },
  {
   "cell_type": "code",
   "execution_count": 55,
   "id": "90cf9cf3-ca68-47c9-a2d8-ad4dd11d0014",
   "metadata": {},
   "outputs": [],
   "source": [
    "%run circle_area.py"
   ]
  },
  {
   "cell_type": "code",
   "execution_count": 56,
   "id": "1b9210ce-5797-481f-9ef9-de159163b3a5",
   "metadata": {},
   "outputs": [
    {
     "name": "stdout",
     "output_type": "stream",
     "text": [
      "Input a non-negative number.\n"
     ]
    }
   ],
   "source": [
    "circleArea(\"eefe\")"
   ]
  }
 ],
 "metadata": {
  "kernelspec": {
   "display_name": "Python 3 (ipykernel)",
   "language": "python",
   "name": "python3"
  },
  "language_info": {
   "codemirror_mode": {
    "name": "ipython",
    "version": 3
   },
   "file_extension": ".py",
   "mimetype": "text/x-python",
   "name": "python",
   "nbconvert_exporter": "python",
   "pygments_lexer": "ipython3",
   "version": "3.11.7"
  }
 },
 "nbformat": 4,
 "nbformat_minor": 5
}
